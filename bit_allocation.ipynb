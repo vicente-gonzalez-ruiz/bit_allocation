{
 "cells": [
  {
   "cell_type": "markdown",
   "metadata": {},
   "source": [
    "# Bit allocation"
   ]
  },
  {
   "cell_type": "code",
   "execution_count": 1,
   "metadata": {},
   "outputs": [],
   "source": [
    "import numpy as np\n",
    "import matplotlib.pyplot as plt"
   ]
  },
  {
   "cell_type": "code",
   "execution_count": 2,
   "metadata": {},
   "outputs": [],
   "source": [
    "# Lists of RD (Rate/Distortion) points\n",
    "curve1 = [(1,20), (2,10), (3,6), (4,3), (5,1.6), (6,1)]\n",
    "curve2 = [(0.9,15), (1.8, 11), (3.1,7.5), (4,6), (5.2,5), (6.5,4.6)]"
   ]
  },
  {
   "cell_type": "code",
   "execution_count": 3,
   "metadata": {},
   "outputs": [
    {
     "data": {
      "image/png": "[encoded data removed]",
      "text/plain": [
       "<Figure size 432x288 with 1 Axes>"
      ]
     },
     "metadata": {
      "needs_background": "light"
     },
     "output_type": "display_data"
    }
   ],
   "source": [
    "plt.scatter(*zip(*curve1))\n",
    "plt.scatter(*zip(*curve2))\n",
    "plt.show()"
   ]
  },
  {
   "cell_type": "code",
   "execution_count": 4,
   "metadata": {},
   "outputs": [
    {
     "name": "stdout",
     "output_type": "stream",
     "text": [
      "[(10.0, 2, 1), (4.0, 3, 1), (3.0, 4, 1), (1.4, 5, 1), (0.6000000000000001, 6, 1)]\n"
     ]
    }
   ],
   "source": [
    "slopes1 = [] # [(slope, rate, curve)]\n",
    "for i in range(len(curve1)-1):\n",
    "    slope = (curve1[i][1]-curve1[i+1][1])/(curve1[i+1][0]-curve1[i][0])\n",
    "    slopes1.append((slope, curve1[i+1][0], 1))\n",
    "print(slopes1)"
   ]
  },
  {
   "cell_type": "code",
   "execution_count": 5,
   "metadata": {},
   "outputs": [
    {
     "name": "stdout",
     "output_type": "stream",
     "text": [
      "[(4.444444444444445, 1.8, 2), (2.692307692307692, 3.1, 2), (1.6666666666666667, 4, 2), (0.8333333333333333, 5.2, 2), (0.307692307692308, 6.5, 2)]\n"
     ]
    }
   ],
   "source": [
    "slopes2 = []\n",
    "for i in range(len(curve2)-1):\n",
    "    slope = (curve2[i][1]-curve2[i+1][1])/(curve2[i+1][0]-curve2[i][0])\n",
    "    slopes2.append((slope, curve2[i+1][0], 2))\n",
    "print(slopes2)"
   ]
  },
  {
   "cell_type": "code",
   "execution_count": 6,
   "metadata": {},
   "outputs": [
    {
     "name": "stdout",
     "output_type": "stream",
     "text": [
      "[(10.0, 2, 1), (4.0, 3, 1), (3.0, 4, 1), (1.4, 5, 1), (0.6000000000000001, 6, 1), (4.444444444444445, 1.8, 2), (2.692307692307692, 3.1, 2), (1.6666666666666667, 4, 2), (0.8333333333333333, 5.2, 2), (0.307692307692308, 6.5, 2)]\n"
     ]
    }
   ],
   "source": [
    "both = slopes1 + slopes2\n",
    "print(both)"
   ]
  },
  {
   "cell_type": "code",
   "execution_count": 7,
   "metadata": {},
   "outputs": [
    {
     "name": "stdout",
     "output_type": "stream",
     "text": [
      "[(10.0, 2, 1), (4.444444444444445, 1.8, 2), (4.0, 3, 1), (3.0, 4, 1), (2.692307692307692, 3.1, 2), (1.6666666666666667, 4, 2), (1.4, 5, 1), (0.8333333333333333, 5.2, 2), (0.6000000000000001, 6, 1), (0.307692307692308, 6.5, 2)]\n"
     ]
    }
   ],
   "source": [
    "sorted_lists = sorted(both, key=lambda tup: tup[0])[::-1]\n",
    "print(sorted_lists)"
   ]
  },
  {
   "cell_type": "code",
   "execution_count": 8,
   "metadata": {},
   "outputs": [
    {
     "name": "stdout",
     "output_type": "stream",
     "text": [
      "Optimal RD points = [(10.0, 2, 1), (4.444444444444445, 1.8, 2), (4.0, 3, 1)]\n",
      "bit-rate = 6.8\n"
     ]
    }
   ],
   "source": [
    "R = 8 # Bit budget\n",
    "spent = 0\n",
    "i = 0\n",
    "optimal = []\n",
    "while True:\n",
    "    spent += sorted_lists[i][1]\n",
    "    if spent < R:\n",
    "        optimal.append(sorted_lists[i])\n",
    "    else:\n",
    "        break\n",
    "    i += 1\n",
    "print(\"Optimal RD points =\", optimal)\n",
    "br = sum([i[1] for i in optimal])\n",
    "print(\"bit-rate =\", br)"
   ]
  }
 ],
 "metadata": {
  "kernelspec": {
   "display_name": "Python 3",
   "language": "python",
   "name": "python3"
  },
  "language_info": {
   "codemirror_mode": {
    "name": "ipython",
    "version": 3
   },
   "file_extension": ".py",
   "mimetype": "text/x-python",
   "name": "python",
   "nbconvert_exporter": "python",
   "pygments_lexer": "ipython3",
   "version": "3.8.1"
  }
 },
 "nbformat": 4,
 "nbformat_minor": 2
}
